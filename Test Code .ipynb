{
 "cells": [
  {
   "cell_type": "code",
   "execution_count": 2,
   "metadata": {},
   "outputs": [
    {
     "name": "stdout",
     "output_type": "stream",
     "text": [
      "[16, 13, 12, 15, 14, 12, 11, 20, 5, 12, 19, 12, 12, 17, 12, 12]\n"
     ]
    }
   ],
   "source": [
    "#Add a 5 between the 20 and the 12\n",
    "\n",
    "temperature =[16,13,12,15,14,12,11,20,12,19,12,12,17,12,12]\n",
    "temperature.insert(-7,5)\n",
    "print(temperature)"
   ]
  },
  {
   "cell_type": "code",
   "execution_count": 8,
   "metadata": {},
   "outputs": [
    {
     "name": "stdout",
     "output_type": "stream",
     "text": [
      "[16, 13, 12, 15, 14, 12, 11, 20, 12, 19, 12, 12, 17, 12, 12, 7, 7, 7]\n"
     ]
    }
   ],
   "source": [
    "#Add three 7s to the end of the list\n",
    "temperature =[16,13,12,15,14,12,11,20,12,19,12,12,17,12,12]\n",
    "temperature.append(7)\n",
    "temperature.append(7)\n",
    "temperature.append(7)\n",
    "print (temperature)"
   ]
  },
  {
   "cell_type": "code",
   "execution_count": null,
   "metadata": {},
   "outputs": [],
   "source": []
  }
 ],
 "metadata": {
  "kernelspec": {
   "display_name": "Python 3",
   "language": "python",
   "name": "python3"
  },
  "language_info": {
   "codemirror_mode": {
    "name": "ipython",
    "version": 3
   },
   "file_extension": ".py",
   "mimetype": "text/x-python",
   "name": "python",
   "nbconvert_exporter": "python",
   "pygments_lexer": "ipython3",
   "version": "3.5.2"
  }
 },
 "nbformat": 4,
 "nbformat_minor": 2
}
